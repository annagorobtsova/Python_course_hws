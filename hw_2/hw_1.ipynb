{
  "cells": [
    {
      "cell_type": "markdown",
      "metadata": {
        "id": "PfvUNn8tzqMd"
      },
      "source": [
        "# **Практическое задание 1 - классы**\n",
        "\n"
      ]
    },
    {
      "cell_type": "markdown",
      "metadata": {
        "id": "meVhF5xZzyAQ"
      },
      "source": [
        "**Задание 1:** Создайте класс Chocolate (для определения шоколадного батончика), принимающий следующие аргументы при инициализации: цена батончика (тип - float), добавка к шоколаду (необязательный аргумент, тип - str)\n",
        "\n",
        "**Задание 2:** При инициализации необходимо проверять, чтобы цена батончика была больше нуля, если цена меньше нуля необходимо вызывать исключение ValueError\n",
        "\n",
        "**Задание 3:** Реализуйте метод show_my_chocolate, выводящий на печать \"Шоколадный батончик, добавка: {ДОБАВКА}\" в случае наличия добавки, а иначе должна отобразиться следующая фраза: \"Обычный шоколадный батончик\"\n",
        "\n",
        "**Задание 4:** Переопределите метод __str__, который при применении функции print() к объекты класса Chocolate должен возвращать строку \"Шоколадный батончик, <ЦЕНА> рублей\"\n"
      ]
    },
    {
      "cell_type": "code",
      "execution_count": null,
      "metadata": {
        "id": "-325fKyfNiel"
      },
      "outputs": [],
      "source": [
        "class Chocolate:\n",
        "\n",
        "  def __init__(self, price, ingridient = 'Обычный шоколадный батончик'):\n",
        "    self.price = float(price)\n",
        "    self.ingridient = str(ingridient)\n",
        "    if price < 0:\n",
        "      raise ValueError\n",
        "\n",
        "  def show_my_chocolate(self):\n",
        "    if self.ingridient == 'Обычный шоколадный батончик':\n",
        "      print ('Обычный шоколадный батончик')\n",
        "    else:\n",
        "      print ('Шоколадный батончик, добавка:' + self.ingridient)\n",
        "\n",
        "  def __str__(self):\n",
        "    return f'Шоколадный батончик, {self.price} рублей'\n",
        "\n"
      ]
    },
    {
      "cell_type": "markdown",
      "metadata": {
        "id": "ugJbqCzP0siM"
      },
      "source": [
        "**Проверка задания 2**: не получается задать отрицательную цену, выдаёт ValueError:\n"
      ]
    },
    {
      "cell_type": "code",
      "execution_count": null,
      "metadata": {
        "id": "nOR94-o30q0b",
        "colab": {
          "base_uri": "https://localhost:8080/",
          "height": 258
        },
        "outputId": "077e4281-ab74-4d9e-8659-e37bd7c6a194"
      },
      "outputs": [
        {
          "output_type": "error",
          "ename": "ValueError",
          "evalue": "",
          "traceback": [
            "\u001b[0;31m---------------------------------------------------------------------------\u001b[0m",
            "\u001b[0;31mValueError\u001b[0m                                Traceback (most recent call last)",
            "\u001b[0;32m<ipython-input-2-35b3bf7ea5e2>\u001b[0m in \u001b[0;36m<cell line: 1>\u001b[0;34m()\u001b[0m\n\u001b[0;32m----> 1\u001b[0;31m \u001b[0mchoco\u001b[0m \u001b[0;34m=\u001b[0m \u001b[0mChocolate\u001b[0m\u001b[0;34m(\u001b[0m\u001b[0;34m-\u001b[0m\u001b[0;36m25\u001b[0m\u001b[0;34m,\u001b[0m \u001b[0;34m'кокос'\u001b[0m\u001b[0;34m)\u001b[0m\u001b[0;34m\u001b[0m\u001b[0;34m\u001b[0m\u001b[0m\n\u001b[0m",
            "\u001b[0;32m<ipython-input-1-e2555f9aefa1>\u001b[0m in \u001b[0;36m__init__\u001b[0;34m(self, price, ingridient)\u001b[0m\n\u001b[1;32m      5\u001b[0m     \u001b[0mself\u001b[0m\u001b[0;34m.\u001b[0m\u001b[0mingridient\u001b[0m \u001b[0;34m=\u001b[0m \u001b[0mstr\u001b[0m\u001b[0;34m(\u001b[0m\u001b[0mingridient\u001b[0m\u001b[0;34m)\u001b[0m\u001b[0;34m\u001b[0m\u001b[0;34m\u001b[0m\u001b[0m\n\u001b[1;32m      6\u001b[0m     \u001b[0;32mif\u001b[0m \u001b[0mprice\u001b[0m \u001b[0;34m<\u001b[0m \u001b[0;36m0\u001b[0m\u001b[0;34m:\u001b[0m\u001b[0;34m\u001b[0m\u001b[0;34m\u001b[0m\u001b[0m\n\u001b[0;32m----> 7\u001b[0;31m       \u001b[0;32mraise\u001b[0m \u001b[0mValueError\u001b[0m\u001b[0;34m\u001b[0m\u001b[0;34m\u001b[0m\u001b[0m\n\u001b[0m\u001b[1;32m      8\u001b[0m \u001b[0;34m\u001b[0m\u001b[0m\n\u001b[1;32m      9\u001b[0m   \u001b[0;32mdef\u001b[0m \u001b[0mshow_my_chocolate\u001b[0m\u001b[0;34m(\u001b[0m\u001b[0mself\u001b[0m\u001b[0;34m)\u001b[0m\u001b[0;34m:\u001b[0m\u001b[0;34m\u001b[0m\u001b[0;34m\u001b[0m\u001b[0m\n",
            "\u001b[0;31mValueError\u001b[0m: "
          ]
        }
      ],
      "source": [
        "choco = Chocolate(-25, 'кокос')"
      ]
    },
    {
      "cell_type": "markdown",
      "metadata": {
        "id": "TDP6SxhU04lB"
      },
      "source": [
        "**Проверка задания 3**: если есть начинка, то указывает начинку, если её нет, то пишет \"Обычный шоколадный батончик\"\n"
      ]
    },
    {
      "cell_type": "code",
      "execution_count": null,
      "metadata": {
        "id": "c9zTY-FO03YM"
      },
      "outputs": [],
      "source": [
        "kitkat = Chocolate(65.5, 'вафля')\n",
        "sneakers = Chocolate(70, 'орехи')\n",
        "alpengold = Chocolate(100)"
      ]
    },
    {
      "cell_type": "code",
      "execution_count": null,
      "metadata": {
        "colab": {
          "base_uri": "https://localhost:8080/"
        },
        "id": "YgiIOXSG2l2D",
        "outputId": "4528995d-64be-4e86-a6eb-d25bb04de24b"
      },
      "outputs": [
        {
          "output_type": "stream",
          "name": "stdout",
          "text": [
            "Шоколадный батончик, добавка:вафля\n"
          ]
        }
      ],
      "source": [
        "kitkat.show_my_chocolate()"
      ]
    },
    {
      "cell_type": "code",
      "execution_count": null,
      "metadata": {
        "colab": {
          "base_uri": "https://localhost:8080/"
        },
        "id": "2B5RlyNC2mCL",
        "outputId": "bbc04f56-4492-4f99-92d6-065329094ea2"
      },
      "outputs": [
        {
          "output_type": "stream",
          "name": "stdout",
          "text": [
            "Шоколадный батончик, добавка:орехи\n"
          ]
        }
      ],
      "source": [
        "sneakers.show_my_chocolate()"
      ]
    },
    {
      "cell_type": "code",
      "execution_count": null,
      "metadata": {
        "colab": {
          "base_uri": "https://localhost:8080/"
        },
        "id": "3Pj8tElp2mJj",
        "outputId": "58d1caaf-2e20-4b84-9832-bbc70088488e"
      },
      "outputs": [
        {
          "output_type": "stream",
          "name": "stdout",
          "text": [
            "Обычный шоколадный батончик\n"
          ]
        }
      ],
      "source": [
        "alpengold.show_my_chocolate()"
      ]
    },
    {
      "cell_type": "markdown",
      "metadata": {
        "id": "emh7gIqA1Aan"
      },
      "source": [
        "**Проверка задания 4**: выдает результат типа \"Шоколадный батончик, <ЦЕНА> рублей\"\n"
      ]
    },
    {
      "cell_type": "code",
      "execution_count": null,
      "metadata": {
        "colab": {
          "base_uri": "https://localhost:8080/",
          "height": 35
        },
        "id": "kcjrxEjKRhve",
        "outputId": "e6d1caac-8b2c-4e2f-828a-e044454df938"
      },
      "outputs": [
        {
          "data": {
            "application/vnd.google.colaboratory.intrinsic+json": {
              "type": "string"
            },
            "text/plain": [
              "'Шоколадный батончик, 100.0 рублей'"
            ]
          },
          "execution_count": 23,
          "metadata": {},
          "output_type": "execute_result"
        }
      ],
      "source": [
        "kitkat.__str__()"
      ]
    },
    {
      "cell_type": "code",
      "execution_count": null,
      "metadata": {
        "colab": {
          "base_uri": "https://localhost:8080/",
          "height": 35
        },
        "id": "5ndULsJN2heI",
        "outputId": "9024cb56-b8d8-4bb1-dd86-dcc39ddcea87"
      },
      "outputs": [
        {
          "data": {
            "application/vnd.google.colaboratory.intrinsic+json": {
              "type": "string"
            },
            "text/plain": [
              "'Шоколадный батончик, 70.0 рублей'"
            ]
          },
          "execution_count": 24,
          "metadata": {},
          "output_type": "execute_result"
        }
      ],
      "source": [
        "sneakers.__str__()"
      ]
    },
    {
      "cell_type": "code",
      "execution_count": null,
      "metadata": {
        "colab": {
          "base_uri": "https://localhost:8080/",
          "height": 35
        },
        "id": "EHl22i622hsb",
        "outputId": "ab2f821c-3c23-4e81-c676-d2c58e17b06b"
      },
      "outputs": [
        {
          "data": {
            "application/vnd.google.colaboratory.intrinsic+json": {
              "type": "string"
            },
            "text/plain": [
              "'Шоколадный батончик, 100.0 рублей'"
            ]
          },
          "execution_count": 25,
          "metadata": {},
          "output_type": "execute_result"
        }
      ],
      "source": [
        "alpengold.__str__()"
      ]
    }
  ],
  "metadata": {
    "colab": {
      "toc_visible": true,
      "provenance": []
    },
    "kernelspec": {
      "display_name": "Python 3",
      "name": "python3"
    },
    "language_info": {
      "name": "python"
    }
  },
  "nbformat": 4,
  "nbformat_minor": 0
}