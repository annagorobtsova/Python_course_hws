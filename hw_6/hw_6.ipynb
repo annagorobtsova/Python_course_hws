{
 "cells": [
  {
   "cell_type": "markdown",
   "id": "8714105b-7b2a-4b2a-bb9b-5040e6739503",
   "metadata": {},
   "source": [
    "# Практическое задание #6\n",
    "Использование данных о выживаемости на Титанике для построения модели бинарной классификации для признака Survived."
   ]
  },
  {
   "cell_type": "markdown",
   "id": "9f2f99e6-fc22-47f4-9e3d-71298f152ed7",
   "metadata": {
    "tags": []
   },
   "source": [
    "# Загрузка и предобрабока данных"
   ]
  },
  {
   "cell_type": "markdown",
   "id": "88d28bcc-3c99-4d7a-ad09-45520859785f",
   "metadata": {},
   "source": [
    "## Загрузка данных"
   ]
  },
  {
   "cell_type": "code",
   "execution_count": 51,
   "id": "22800c19-2a5b-4048-9f62-716d8c184067",
   "metadata": {
    "tags": []
   },
   "outputs": [],
   "source": [
    "import pandas as pd\n",
    "from sklearn.model_selection import train_test_split\n",
    "from sklearn.dummy import DummyClassifier\n",
    "from sklearn.linear_model import LogisticRegression\n",
    "from sklearn.preprocessing import OneHotEncoder\n",
    "from sklearn.impute import SimpleImputer\n",
    "from sklearn.preprocessing import StandardScaler\n",
    "from sklearn.metrics import classification_report\n",
    "from sklearn.metrics import accuracy_score\n",
    "from sklearn.metrics import confusion_matrix, precision_score, recall_score\n",
    "from sklearn.metrics import f1_score, fbeta_score"
   ]
  },
  {
   "cell_type": "code",
   "execution_count": 52,
   "id": "81a7b3b2-42ab-44ce-8d67-f34f13cbc343",
   "metadata": {
    "tags": []
   },
   "outputs": [],
   "source": [
    "import pandas as pd\n",
    "df = pd.read_csv('train.csv')"
   ]
  },
  {
   "cell_type": "code",
   "execution_count": 53,
   "id": "4cf7e833-6774-41b1-826d-a2c7bf6e1590",
   "metadata": {
    "tags": []
   },
   "outputs": [
    {
     "name": "stdout",
     "output_type": "stream",
     "text": [
      "Survived\n",
      "0    61.616162\n",
      "1    38.383838\n",
      "Name: count, dtype: float64\n"
     ]
    }
   ],
   "source": [
    "survival_count = df.Survived.value_counts() \n",
    "survival_percentage = (survival_count / 891) * 100\n",
    "print(survival_percentage)"
   ]
  },
  {
   "cell_type": "markdown",
   "id": "df14a3c4-9dad-4ec4-bfd0-a86e76f1e247",
   "metadata": {},
   "source": [
    "61% пассажиров не выжили, а 31% выжили => у нас есть дисбаланс классов"
   ]
  },
  {
   "cell_type": "markdown",
   "id": "361dc752-c24d-4028-a7b2-d94d4eaaefac",
   "metadata": {},
   "source": [
    "## Разбираемся с пропусками"
   ]
  },
  {
   "cell_type": "code",
   "execution_count": 54,
   "id": "d137e9b0-dcb1-4a76-8f51-7b1ff96f6f3b",
   "metadata": {
    "tags": []
   },
   "outputs": [
    {
     "data": {
      "text/plain": [
       "PassengerId      0\n",
       "Survived         0\n",
       "Pclass           0\n",
       "Name             0\n",
       "Sex              0\n",
       "Age            177\n",
       "SibSp            0\n",
       "Parch            0\n",
       "Ticket           0\n",
       "Fare             0\n",
       "Cabin          687\n",
       "Embarked         2\n",
       "dtype: int64"
      ]
     },
     "execution_count": 54,
     "metadata": {},
     "output_type": "execute_result"
    }
   ],
   "source": [
    "# посмотреть кол-во пропусков по всем переменным\n",
    "df.isna().sum()"
   ]
  },
  {
   "cell_type": "code",
   "execution_count": 55,
   "id": "8154e91d-bdbf-4df9-b3c1-062bec785153",
   "metadata": {
    "tags": []
   },
   "outputs": [],
   "source": [
    "# заменим пропуски возраста средним значением:\n",
    "imputer = SimpleImputer(strategy='mean')\n",
    "df['Age'] = imputer.fit_transform(df[['Age']])"
   ]
  },
  {
   "cell_type": "markdown",
   "id": "c849ed56-3e92-4e26-adf7-5ee2bc3d41d3",
   "metadata": {},
   "source": [
    "## Преобразование категориальных признаков\n",
    "\n",
    "у нас в данных есть два категориальных признака: \n",
    "* Sex - пол (male/female)\n",
    "* Pclass - класс пассажира (1/2/3)"
   ]
  },
  {
   "cell_type": "markdown",
   "id": "5566f46d-3fdf-4edc-b5fb-557b3f981f92",
   "metadata": {},
   "source": [
    "### Преобразоавние переменной \"Sex\""
   ]
  },
  {
   "cell_type": "code",
   "execution_count": 56,
   "id": "44c826f4-b0cc-4bd7-8fd0-42ff61d87909",
   "metadata": {
    "tags": []
   },
   "outputs": [
    {
     "data": {
      "text/html": [
       "<div>\n",
       "<style scoped>\n",
       "    .dataframe tbody tr th:only-of-type {\n",
       "        vertical-align: middle;\n",
       "    }\n",
       "\n",
       "    .dataframe tbody tr th {\n",
       "        vertical-align: top;\n",
       "    }\n",
       "\n",
       "    .dataframe thead th {\n",
       "        text-align: right;\n",
       "    }\n",
       "</style>\n",
       "<table border=\"1\" class=\"dataframe\">\n",
       "  <thead>\n",
       "    <tr style=\"text-align: right;\">\n",
       "      <th></th>\n",
       "      <th>x0_female</th>\n",
       "      <th>x0_male</th>\n",
       "    </tr>\n",
       "  </thead>\n",
       "  <tbody>\n",
       "    <tr>\n",
       "      <th>0</th>\n",
       "      <td>0.0</td>\n",
       "      <td>1.0</td>\n",
       "    </tr>\n",
       "    <tr>\n",
       "      <th>1</th>\n",
       "      <td>1.0</td>\n",
       "      <td>0.0</td>\n",
       "    </tr>\n",
       "    <tr>\n",
       "      <th>2</th>\n",
       "      <td>1.0</td>\n",
       "      <td>0.0</td>\n",
       "    </tr>\n",
       "    <tr>\n",
       "      <th>3</th>\n",
       "      <td>1.0</td>\n",
       "      <td>0.0</td>\n",
       "    </tr>\n",
       "    <tr>\n",
       "      <th>4</th>\n",
       "      <td>0.0</td>\n",
       "      <td>1.0</td>\n",
       "    </tr>\n",
       "  </tbody>\n",
       "</table>\n",
       "</div>"
      ],
      "text/plain": [
       "   x0_female  x0_male\n",
       "0        0.0      1.0\n",
       "1        1.0      0.0\n",
       "2        1.0      0.0\n",
       "3        1.0      0.0\n",
       "4        0.0      1.0"
      ]
     },
     "execution_count": 56,
     "metadata": {},
     "output_type": "execute_result"
    }
   ],
   "source": [
    "ohe = OneHotEncoder()\n",
    "res = ohe.fit_transform(df['Sex'].to_numpy().reshape(-1, 1))\n",
    "ohe_df = pd.DataFrame(res.toarray(), columns=ohe.get_feature_names_out())\n",
    "ohe_df.head()"
   ]
  },
  {
   "cell_type": "code",
   "execution_count": 57,
   "id": "f3f1153b-a1ef-4ca9-b278-5c3ba3acd380",
   "metadata": {
    "tags": []
   },
   "outputs": [
    {
     "data": {
      "text/html": [
       "<div>\n",
       "<style scoped>\n",
       "    .dataframe tbody tr th:only-of-type {\n",
       "        vertical-align: middle;\n",
       "    }\n",
       "\n",
       "    .dataframe tbody tr th {\n",
       "        vertical-align: top;\n",
       "    }\n",
       "\n",
       "    .dataframe thead th {\n",
       "        text-align: right;\n",
       "    }\n",
       "</style>\n",
       "<table border=\"1\" class=\"dataframe\">\n",
       "  <thead>\n",
       "    <tr style=\"text-align: right;\">\n",
       "      <th></th>\n",
       "      <th>sex_male</th>\n",
       "    </tr>\n",
       "  </thead>\n",
       "  <tbody>\n",
       "    <tr>\n",
       "      <th>0</th>\n",
       "      <td>True</td>\n",
       "    </tr>\n",
       "    <tr>\n",
       "      <th>1</th>\n",
       "      <td>False</td>\n",
       "    </tr>\n",
       "    <tr>\n",
       "      <th>2</th>\n",
       "      <td>False</td>\n",
       "    </tr>\n",
       "    <tr>\n",
       "      <th>3</th>\n",
       "      <td>False</td>\n",
       "    </tr>\n",
       "    <tr>\n",
       "      <th>4</th>\n",
       "      <td>True</td>\n",
       "    </tr>\n",
       "  </tbody>\n",
       "</table>\n",
       "</div>"
      ],
      "text/plain": [
       "   sex_male\n",
       "0      True\n",
       "1     False\n",
       "2     False\n",
       "3     False\n",
       "4      True"
      ]
     },
     "execution_count": 57,
     "metadata": {},
     "output_type": "execute_result"
    }
   ],
   "source": [
    "# удаляем один солбец\n",
    "res = pd.get_dummies(df['Sex'], prefix='sex', drop_first=True)\n",
    "res.head()"
   ]
  },
  {
   "cell_type": "code",
   "execution_count": 58,
   "id": "14465b18-1f88-4f80-860a-ecccf00b26ec",
   "metadata": {
    "tags": []
   },
   "outputs": [
    {
     "data": {
      "text/html": [
       "<div>\n",
       "<style scoped>\n",
       "    .dataframe tbody tr th:only-of-type {\n",
       "        vertical-align: middle;\n",
       "    }\n",
       "\n",
       "    .dataframe tbody tr th {\n",
       "        vertical-align: top;\n",
       "    }\n",
       "\n",
       "    .dataframe thead th {\n",
       "        text-align: right;\n",
       "    }\n",
       "</style>\n",
       "<table border=\"1\" class=\"dataframe\">\n",
       "  <thead>\n",
       "    <tr style=\"text-align: right;\">\n",
       "      <th></th>\n",
       "      <th>PassengerId</th>\n",
       "      <th>Survived</th>\n",
       "      <th>Pclass</th>\n",
       "      <th>Name</th>\n",
       "      <th>Age</th>\n",
       "      <th>SibSp</th>\n",
       "      <th>Parch</th>\n",
       "      <th>Ticket</th>\n",
       "      <th>Fare</th>\n",
       "      <th>Cabin</th>\n",
       "      <th>Embarked</th>\n",
       "      <th>sex_male</th>\n",
       "    </tr>\n",
       "  </thead>\n",
       "  <tbody>\n",
       "    <tr>\n",
       "      <th>0</th>\n",
       "      <td>1</td>\n",
       "      <td>0</td>\n",
       "      <td>3</td>\n",
       "      <td>Braund, Mr. Owen Harris</td>\n",
       "      <td>22.0</td>\n",
       "      <td>1</td>\n",
       "      <td>0</td>\n",
       "      <td>A/5 21171</td>\n",
       "      <td>7.2500</td>\n",
       "      <td>NaN</td>\n",
       "      <td>S</td>\n",
       "      <td>True</td>\n",
       "    </tr>\n",
       "    <tr>\n",
       "      <th>1</th>\n",
       "      <td>2</td>\n",
       "      <td>1</td>\n",
       "      <td>1</td>\n",
       "      <td>Cumings, Mrs. John Bradley (Florence Briggs Th...</td>\n",
       "      <td>38.0</td>\n",
       "      <td>1</td>\n",
       "      <td>0</td>\n",
       "      <td>PC 17599</td>\n",
       "      <td>71.2833</td>\n",
       "      <td>C85</td>\n",
       "      <td>C</td>\n",
       "      <td>False</td>\n",
       "    </tr>\n",
       "    <tr>\n",
       "      <th>2</th>\n",
       "      <td>3</td>\n",
       "      <td>1</td>\n",
       "      <td>3</td>\n",
       "      <td>Heikkinen, Miss. Laina</td>\n",
       "      <td>26.0</td>\n",
       "      <td>0</td>\n",
       "      <td>0</td>\n",
       "      <td>STON/O2. 3101282</td>\n",
       "      <td>7.9250</td>\n",
       "      <td>NaN</td>\n",
       "      <td>S</td>\n",
       "      <td>False</td>\n",
       "    </tr>\n",
       "    <tr>\n",
       "      <th>3</th>\n",
       "      <td>4</td>\n",
       "      <td>1</td>\n",
       "      <td>1</td>\n",
       "      <td>Futrelle, Mrs. Jacques Heath (Lily May Peel)</td>\n",
       "      <td>35.0</td>\n",
       "      <td>1</td>\n",
       "      <td>0</td>\n",
       "      <td>113803</td>\n",
       "      <td>53.1000</td>\n",
       "      <td>C123</td>\n",
       "      <td>S</td>\n",
       "      <td>False</td>\n",
       "    </tr>\n",
       "    <tr>\n",
       "      <th>4</th>\n",
       "      <td>5</td>\n",
       "      <td>0</td>\n",
       "      <td>3</td>\n",
       "      <td>Allen, Mr. William Henry</td>\n",
       "      <td>35.0</td>\n",
       "      <td>0</td>\n",
       "      <td>0</td>\n",
       "      <td>373450</td>\n",
       "      <td>8.0500</td>\n",
       "      <td>NaN</td>\n",
       "      <td>S</td>\n",
       "      <td>True</td>\n",
       "    </tr>\n",
       "  </tbody>\n",
       "</table>\n",
       "</div>"
      ],
      "text/plain": [
       "   PassengerId  Survived  Pclass  \\\n",
       "0            1         0       3   \n",
       "1            2         1       1   \n",
       "2            3         1       3   \n",
       "3            4         1       1   \n",
       "4            5         0       3   \n",
       "\n",
       "                                                Name   Age  SibSp  Parch  \\\n",
       "0                            Braund, Mr. Owen Harris  22.0      1      0   \n",
       "1  Cumings, Mrs. John Bradley (Florence Briggs Th...  38.0      1      0   \n",
       "2                             Heikkinen, Miss. Laina  26.0      0      0   \n",
       "3       Futrelle, Mrs. Jacques Heath (Lily May Peel)  35.0      1      0   \n",
       "4                           Allen, Mr. William Henry  35.0      0      0   \n",
       "\n",
       "             Ticket     Fare Cabin Embarked  sex_male  \n",
       "0         A/5 21171   7.2500   NaN        S      True  \n",
       "1          PC 17599  71.2833   C85        C     False  \n",
       "2  STON/O2. 3101282   7.9250   NaN        S     False  \n",
       "3            113803  53.1000  C123        S     False  \n",
       "4            373450   8.0500   NaN        S      True  "
      ]
     },
     "execution_count": 58,
     "metadata": {},
     "output_type": "execute_result"
    }
   ],
   "source": [
    "# удаляем переменную \"Sex\" и прцепляем \"sex_male\"\n",
    "df = pd.concat([df, res], axis=1).drop(columns='Sex')\n",
    "df.head()"
   ]
  },
  {
   "cell_type": "markdown",
   "id": "57180899-8705-42b1-a31d-3321abe530fa",
   "metadata": {},
   "source": [
    "### Преобразоавние переменной \"Pclass\""
   ]
  },
  {
   "cell_type": "code",
   "execution_count": 59,
   "id": "a9f9dea3-4058-4c2e-9364-1cebe154f4b8",
   "metadata": {
    "tags": []
   },
   "outputs": [
    {
     "data": {
      "text/html": [
       "<div>\n",
       "<style scoped>\n",
       "    .dataframe tbody tr th:only-of-type {\n",
       "        vertical-align: middle;\n",
       "    }\n",
       "\n",
       "    .dataframe tbody tr th {\n",
       "        vertical-align: top;\n",
       "    }\n",
       "\n",
       "    .dataframe thead th {\n",
       "        text-align: right;\n",
       "    }\n",
       "</style>\n",
       "<table border=\"1\" class=\"dataframe\">\n",
       "  <thead>\n",
       "    <tr style=\"text-align: right;\">\n",
       "      <th></th>\n",
       "      <th>x0_1</th>\n",
       "      <th>x0_2</th>\n",
       "      <th>x0_3</th>\n",
       "    </tr>\n",
       "  </thead>\n",
       "  <tbody>\n",
       "    <tr>\n",
       "      <th>0</th>\n",
       "      <td>0.0</td>\n",
       "      <td>0.0</td>\n",
       "      <td>1.0</td>\n",
       "    </tr>\n",
       "    <tr>\n",
       "      <th>1</th>\n",
       "      <td>1.0</td>\n",
       "      <td>0.0</td>\n",
       "      <td>0.0</td>\n",
       "    </tr>\n",
       "    <tr>\n",
       "      <th>2</th>\n",
       "      <td>0.0</td>\n",
       "      <td>0.0</td>\n",
       "      <td>1.0</td>\n",
       "    </tr>\n",
       "    <tr>\n",
       "      <th>3</th>\n",
       "      <td>1.0</td>\n",
       "      <td>0.0</td>\n",
       "      <td>0.0</td>\n",
       "    </tr>\n",
       "    <tr>\n",
       "      <th>4</th>\n",
       "      <td>0.0</td>\n",
       "      <td>0.0</td>\n",
       "      <td>1.0</td>\n",
       "    </tr>\n",
       "  </tbody>\n",
       "</table>\n",
       "</div>"
      ],
      "text/plain": [
       "   x0_1  x0_2  x0_3\n",
       "0   0.0   0.0   1.0\n",
       "1   1.0   0.0   0.0\n",
       "2   0.0   0.0   1.0\n",
       "3   1.0   0.0   0.0\n",
       "4   0.0   0.0   1.0"
      ]
     },
     "execution_count": 59,
     "metadata": {},
     "output_type": "execute_result"
    }
   ],
   "source": [
    "ohe = OneHotEncoder()\n",
    "res2 = ohe.fit_transform(df['Pclass'].to_numpy().reshape(-1, 1))\n",
    "ohe_df = pd.DataFrame(res2.toarray(), columns=ohe.get_feature_names_out())\n",
    "ohe_df.head()"
   ]
  },
  {
   "cell_type": "code",
   "execution_count": 60,
   "id": "ba1e38da-757e-4d75-bd64-3a1bcf1d4e7d",
   "metadata": {
    "tags": []
   },
   "outputs": [
    {
     "data": {
      "text/html": [
       "<div>\n",
       "<style scoped>\n",
       "    .dataframe tbody tr th:only-of-type {\n",
       "        vertical-align: middle;\n",
       "    }\n",
       "\n",
       "    .dataframe tbody tr th {\n",
       "        vertical-align: top;\n",
       "    }\n",
       "\n",
       "    .dataframe thead th {\n",
       "        text-align: right;\n",
       "    }\n",
       "</style>\n",
       "<table border=\"1\" class=\"dataframe\">\n",
       "  <thead>\n",
       "    <tr style=\"text-align: right;\">\n",
       "      <th></th>\n",
       "      <th>Pclass_2</th>\n",
       "      <th>Pclass_3</th>\n",
       "    </tr>\n",
       "  </thead>\n",
       "  <tbody>\n",
       "    <tr>\n",
       "      <th>0</th>\n",
       "      <td>False</td>\n",
       "      <td>True</td>\n",
       "    </tr>\n",
       "    <tr>\n",
       "      <th>1</th>\n",
       "      <td>False</td>\n",
       "      <td>False</td>\n",
       "    </tr>\n",
       "    <tr>\n",
       "      <th>2</th>\n",
       "      <td>False</td>\n",
       "      <td>True</td>\n",
       "    </tr>\n",
       "    <tr>\n",
       "      <th>3</th>\n",
       "      <td>False</td>\n",
       "      <td>False</td>\n",
       "    </tr>\n",
       "    <tr>\n",
       "      <th>4</th>\n",
       "      <td>False</td>\n",
       "      <td>True</td>\n",
       "    </tr>\n",
       "  </tbody>\n",
       "</table>\n",
       "</div>"
      ],
      "text/plain": [
       "   Pclass_2  Pclass_3\n",
       "0     False      True\n",
       "1     False     False\n",
       "2     False      True\n",
       "3     False     False\n",
       "4     False      True"
      ]
     },
     "execution_count": 60,
     "metadata": {},
     "output_type": "execute_result"
    }
   ],
   "source": [
    "# удаляем один солбец\n",
    "res2 = pd.get_dummies(df['Pclass'], prefix='Pclass', drop_first=True)\n",
    "res2.head()"
   ]
  },
  {
   "cell_type": "code",
   "execution_count": 61,
   "id": "f4fa6b5d-74b9-43e5-91b2-00fbf894c0b4",
   "metadata": {
    "tags": []
   },
   "outputs": [
    {
     "data": {
      "text/html": [
       "<div>\n",
       "<style scoped>\n",
       "    .dataframe tbody tr th:only-of-type {\n",
       "        vertical-align: middle;\n",
       "    }\n",
       "\n",
       "    .dataframe tbody tr th {\n",
       "        vertical-align: top;\n",
       "    }\n",
       "\n",
       "    .dataframe thead th {\n",
       "        text-align: right;\n",
       "    }\n",
       "</style>\n",
       "<table border=\"1\" class=\"dataframe\">\n",
       "  <thead>\n",
       "    <tr style=\"text-align: right;\">\n",
       "      <th></th>\n",
       "      <th>PassengerId</th>\n",
       "      <th>Survived</th>\n",
       "      <th>Name</th>\n",
       "      <th>Age</th>\n",
       "      <th>SibSp</th>\n",
       "      <th>Parch</th>\n",
       "      <th>Ticket</th>\n",
       "      <th>Fare</th>\n",
       "      <th>Cabin</th>\n",
       "      <th>Embarked</th>\n",
       "      <th>sex_male</th>\n",
       "      <th>Pclass_2</th>\n",
       "      <th>Pclass_3</th>\n",
       "    </tr>\n",
       "  </thead>\n",
       "  <tbody>\n",
       "    <tr>\n",
       "      <th>0</th>\n",
       "      <td>1</td>\n",
       "      <td>0</td>\n",
       "      <td>Braund, Mr. Owen Harris</td>\n",
       "      <td>22.0</td>\n",
       "      <td>1</td>\n",
       "      <td>0</td>\n",
       "      <td>A/5 21171</td>\n",
       "      <td>7.2500</td>\n",
       "      <td>NaN</td>\n",
       "      <td>S</td>\n",
       "      <td>True</td>\n",
       "      <td>False</td>\n",
       "      <td>True</td>\n",
       "    </tr>\n",
       "    <tr>\n",
       "      <th>1</th>\n",
       "      <td>2</td>\n",
       "      <td>1</td>\n",
       "      <td>Cumings, Mrs. John Bradley (Florence Briggs Th...</td>\n",
       "      <td>38.0</td>\n",
       "      <td>1</td>\n",
       "      <td>0</td>\n",
       "      <td>PC 17599</td>\n",
       "      <td>71.2833</td>\n",
       "      <td>C85</td>\n",
       "      <td>C</td>\n",
       "      <td>False</td>\n",
       "      <td>False</td>\n",
       "      <td>False</td>\n",
       "    </tr>\n",
       "    <tr>\n",
       "      <th>2</th>\n",
       "      <td>3</td>\n",
       "      <td>1</td>\n",
       "      <td>Heikkinen, Miss. Laina</td>\n",
       "      <td>26.0</td>\n",
       "      <td>0</td>\n",
       "      <td>0</td>\n",
       "      <td>STON/O2. 3101282</td>\n",
       "      <td>7.9250</td>\n",
       "      <td>NaN</td>\n",
       "      <td>S</td>\n",
       "      <td>False</td>\n",
       "      <td>False</td>\n",
       "      <td>True</td>\n",
       "    </tr>\n",
       "    <tr>\n",
       "      <th>3</th>\n",
       "      <td>4</td>\n",
       "      <td>1</td>\n",
       "      <td>Futrelle, Mrs. Jacques Heath (Lily May Peel)</td>\n",
       "      <td>35.0</td>\n",
       "      <td>1</td>\n",
       "      <td>0</td>\n",
       "      <td>113803</td>\n",
       "      <td>53.1000</td>\n",
       "      <td>C123</td>\n",
       "      <td>S</td>\n",
       "      <td>False</td>\n",
       "      <td>False</td>\n",
       "      <td>False</td>\n",
       "    </tr>\n",
       "    <tr>\n",
       "      <th>4</th>\n",
       "      <td>5</td>\n",
       "      <td>0</td>\n",
       "      <td>Allen, Mr. William Henry</td>\n",
       "      <td>35.0</td>\n",
       "      <td>0</td>\n",
       "      <td>0</td>\n",
       "      <td>373450</td>\n",
       "      <td>8.0500</td>\n",
       "      <td>NaN</td>\n",
       "      <td>S</td>\n",
       "      <td>True</td>\n",
       "      <td>False</td>\n",
       "      <td>True</td>\n",
       "    </tr>\n",
       "  </tbody>\n",
       "</table>\n",
       "</div>"
      ],
      "text/plain": [
       "   PassengerId  Survived                                               Name  \\\n",
       "0            1         0                            Braund, Mr. Owen Harris   \n",
       "1            2         1  Cumings, Mrs. John Bradley (Florence Briggs Th...   \n",
       "2            3         1                             Heikkinen, Miss. Laina   \n",
       "3            4         1       Futrelle, Mrs. Jacques Heath (Lily May Peel)   \n",
       "4            5         0                           Allen, Mr. William Henry   \n",
       "\n",
       "    Age  SibSp  Parch            Ticket     Fare Cabin Embarked  sex_male  \\\n",
       "0  22.0      1      0         A/5 21171   7.2500   NaN        S      True   \n",
       "1  38.0      1      0          PC 17599  71.2833   C85        C     False   \n",
       "2  26.0      0      0  STON/O2. 3101282   7.9250   NaN        S     False   \n",
       "3  35.0      1      0            113803  53.1000  C123        S     False   \n",
       "4  35.0      0      0            373450   8.0500   NaN        S      True   \n",
       "\n",
       "   Pclass_2  Pclass_3  \n",
       "0     False      True  \n",
       "1     False     False  \n",
       "2     False      True  \n",
       "3     False     False  \n",
       "4     False      True  "
      ]
     },
     "execution_count": 61,
     "metadata": {},
     "output_type": "execute_result"
    }
   ],
   "source": [
    "# удаляем переменную \"Pclass\" и прцеляем \"Pclass_2\" и \"Pclass_3\"\n",
    "df = pd.concat([df, res2], axis=1).drop(columns='Pclass')\n",
    "df.head()"
   ]
  },
  {
   "cell_type": "markdown",
   "id": "9c0b5afd-64ce-47e7-930c-81e4d74fefd9",
   "metadata": {},
   "source": [
    "# Строим модель"
   ]
  },
  {
   "cell_type": "markdown",
   "id": "249f9bbf-94e0-4962-b3e8-6290b5bbe26c",
   "metadata": {},
   "source": [
    "## Выбор признаков и деление на обучающую и тестовую выборку"
   ]
  },
  {
   "cell_type": "code",
   "execution_count": 62,
   "id": "fb379de6-15d4-4fec-9e13-a82f54fc27bb",
   "metadata": {
    "tags": []
   },
   "outputs": [],
   "source": [
    "# Выбор признаков и целевой переменной\n",
    "# 1 - survived; 0 - died\n",
    "\n",
    "features = df[['Pclass_2', 'Pclass_3', 'sex_male', 'Age', 'Fare']]\n",
    "target = df['Survived']"
   ]
  },
  {
   "cell_type": "code",
   "execution_count": 63,
   "id": "e77070ea-a748-48dc-ad55-2d323f0bb486",
   "metadata": {
    "tags": []
   },
   "outputs": [
    {
     "data": {
      "text/html": [
       "<div>\n",
       "<style scoped>\n",
       "    .dataframe tbody tr th:only-of-type {\n",
       "        vertical-align: middle;\n",
       "    }\n",
       "\n",
       "    .dataframe tbody tr th {\n",
       "        vertical-align: top;\n",
       "    }\n",
       "\n",
       "    .dataframe thead th {\n",
       "        text-align: right;\n",
       "    }\n",
       "</style>\n",
       "<table border=\"1\" class=\"dataframe\">\n",
       "  <thead>\n",
       "    <tr style=\"text-align: right;\">\n",
       "      <th></th>\n",
       "      <th>Pclass_2</th>\n",
       "      <th>Pclass_3</th>\n",
       "      <th>sex_male</th>\n",
       "      <th>Age</th>\n",
       "      <th>Fare</th>\n",
       "    </tr>\n",
       "  </thead>\n",
       "  <tbody>\n",
       "    <tr>\n",
       "      <th>38</th>\n",
       "      <td>False</td>\n",
       "      <td>True</td>\n",
       "      <td>False</td>\n",
       "      <td>18.000000</td>\n",
       "      <td>18.0000</td>\n",
       "    </tr>\n",
       "    <tr>\n",
       "      <th>269</th>\n",
       "      <td>False</td>\n",
       "      <td>False</td>\n",
       "      <td>False</td>\n",
       "      <td>35.000000</td>\n",
       "      <td>135.6333</td>\n",
       "    </tr>\n",
       "    <tr>\n",
       "      <th>141</th>\n",
       "      <td>False</td>\n",
       "      <td>True</td>\n",
       "      <td>False</td>\n",
       "      <td>22.000000</td>\n",
       "      <td>7.7500</td>\n",
       "    </tr>\n",
       "    <tr>\n",
       "      <th>490</th>\n",
       "      <td>False</td>\n",
       "      <td>True</td>\n",
       "      <td>True</td>\n",
       "      <td>29.699118</td>\n",
       "      <td>19.9667</td>\n",
       "    </tr>\n",
       "    <tr>\n",
       "      <th>514</th>\n",
       "      <td>False</td>\n",
       "      <td>True</td>\n",
       "      <td>True</td>\n",
       "      <td>24.000000</td>\n",
       "      <td>7.4958</td>\n",
       "    </tr>\n",
       "    <tr>\n",
       "      <th>...</th>\n",
       "      <td>...</td>\n",
       "      <td>...</td>\n",
       "      <td>...</td>\n",
       "      <td>...</td>\n",
       "      <td>...</td>\n",
       "    </tr>\n",
       "    <tr>\n",
       "      <th>732</th>\n",
       "      <td>True</td>\n",
       "      <td>False</td>\n",
       "      <td>True</td>\n",
       "      <td>29.699118</td>\n",
       "      <td>0.0000</td>\n",
       "    </tr>\n",
       "    <tr>\n",
       "      <th>695</th>\n",
       "      <td>True</td>\n",
       "      <td>False</td>\n",
       "      <td>True</td>\n",
       "      <td>52.000000</td>\n",
       "      <td>13.5000</td>\n",
       "    </tr>\n",
       "    <tr>\n",
       "      <th>454</th>\n",
       "      <td>False</td>\n",
       "      <td>True</td>\n",
       "      <td>True</td>\n",
       "      <td>29.699118</td>\n",
       "      <td>8.0500</td>\n",
       "    </tr>\n",
       "    <tr>\n",
       "      <th>537</th>\n",
       "      <td>False</td>\n",
       "      <td>False</td>\n",
       "      <td>False</td>\n",
       "      <td>30.000000</td>\n",
       "      <td>106.4250</td>\n",
       "    </tr>\n",
       "    <tr>\n",
       "      <th>855</th>\n",
       "      <td>False</td>\n",
       "      <td>True</td>\n",
       "      <td>False</td>\n",
       "      <td>18.000000</td>\n",
       "      <td>9.3500</td>\n",
       "    </tr>\n",
       "  </tbody>\n",
       "</table>\n",
       "<p>623 rows × 5 columns</p>\n",
       "</div>"
      ],
      "text/plain": [
       "     Pclass_2  Pclass_3  sex_male        Age      Fare\n",
       "38      False      True     False  18.000000   18.0000\n",
       "269     False     False     False  35.000000  135.6333\n",
       "141     False      True     False  22.000000    7.7500\n",
       "490     False      True      True  29.699118   19.9667\n",
       "514     False      True      True  24.000000    7.4958\n",
       "..        ...       ...       ...        ...       ...\n",
       "732      True     False      True  29.699118    0.0000\n",
       "695      True     False      True  52.000000   13.5000\n",
       "454     False      True      True  29.699118    8.0500\n",
       "537     False     False     False  30.000000  106.4250\n",
       "855     False      True     False  18.000000    9.3500\n",
       "\n",
       "[623 rows x 5 columns]"
      ]
     },
     "execution_count": 63,
     "metadata": {},
     "output_type": "execute_result"
    }
   ],
   "source": [
    "# Разделение данных на обучающую и тестовую выборки\n",
    "X_train, X_test, y_train, y_test = train_test_split(features, target, test_size=0.3, random_state=2023)\n",
    "X_train"
   ]
  },
  {
   "cell_type": "markdown",
   "id": "c5a714f0-e1d1-4316-bdba-a795244e6949",
   "metadata": {},
   "source": [
    "##  Константный бейслайн"
   ]
  },
  {
   "cell_type": "code",
   "execution_count": 64,
   "id": "a21ae455-12f0-4f9a-96ed-9354569cb5ad",
   "metadata": {
    "tags": []
   },
   "outputs": [],
   "source": [
    "# DummyClassifier: классификатор, который всегда предсказывает наиболее часто встречающееся значение из тренировочных данных (стратегия most_frequent).\n",
    "dummy_clf = DummyClassifier(strategy=\"most_frequent\")\n",
    "\n",
    "# Обучение \"пустой\" модели. Модель просто смотрит, какое значение чаще всего встречается в метках и всегда его предсказывает.\n",
    "dummy_clf.fit(X_train, y_train);\n",
    "\n",
    "# Получаем предсказание от глупого кллассификатора (модель делает предсказания на тестовых данных)\n",
    "y_pred_dummy = dummy_clf.predict(X_test)"
   ]
  },
  {
   "cell_type": "markdown",
   "id": "e6a7e427-36b4-4b58-803e-a779e3e1762f",
   "metadata": {},
   "source": [
    "## Построение модели логистической регрессии"
   ]
  },
  {
   "cell_type": "code",
   "execution_count": 65,
   "id": "7f43d6ef-27bb-40c2-b3ae-7480a16468c6",
   "metadata": {
    "tags": []
   },
   "outputs": [],
   "source": [
    "# масштабируем данные\n",
    "scaler = StandardScaler()\n",
    "X_train_scaled = pd.DataFrame(\n",
    "    scaler.fit_transform(X_train),\n",
    "    columns=X_train.columns\n",
    ")\n",
    "X_test_scaled = pd.DataFrame(\n",
    "    scaler.transform(X_test),\n",
    "    columns=X_test.columns\n",
    ")"
   ]
  },
  {
   "cell_type": "code",
   "execution_count": 66,
   "id": "54ce1f17-1018-4d12-a024-38b05e6894aa",
   "metadata": {
    "tags": []
   },
   "outputs": [],
   "source": [
    "# LogisticRegression\n",
    "log_reg = LogisticRegression()\n",
    "\n",
    "# Обучаем модель на тренировочных данных\n",
    "log_reg.fit(X_train_scaled, y_train);\n",
    "\n",
    "# Делаем предсказания на тестовой выборке\n",
    "y_preds_logreg = log_reg.predict(X_test_scaled)"
   ]
  },
  {
   "cell_type": "markdown",
   "id": "68b519c2-c199-4bee-84ba-31639987da66",
   "metadata": {},
   "source": [
    "## Оценка качества модели\n",
    "\n",
    "Такая метрика, как Accuracy, не совсем нам подходит в данном случае, так как 60% всех наблюдений — это невыжившие пассажиры, т.е. в нашей выборке есть дисбаланс классов. Это создает риск того, что модель может достигать высокой точности, просто предсказывая \"не выживет\" для большинства случаев.\n",
    "\n",
    "Соответственно можно подробнее изучить другие метрики: точность (precision), полнота (recall) и F1 score. Тем не менее, в качестве основного ориентира предлагаю использовать F1 score, так как эта метрика представляет собой гармоническое среднее между точностью (precision) и полнотой (recall), что позволяет учесть обе метрики в одном значении и педоставить более полное предсавление о производительности модели."
   ]
  },
  {
   "cell_type": "markdown",
   "id": "a2565d3a-021c-454d-9dc5-9313d754f585",
   "metadata": {},
   "source": [
    "### Precision (Точность) & Recall (Полнота)"
   ]
  },
  {
   "cell_type": "code",
   "execution_count": 67,
   "id": "fb9c0571-468b-442a-a7bb-5ab254766904",
   "metadata": {
    "tags": []
   },
   "outputs": [
    {
     "data": {
      "text/plain": [
       "array([[162,   0],\n",
       "       [106,   0]])"
      ]
     },
     "execution_count": 67,
     "metadata": {},
     "output_type": "execute_result"
    }
   ],
   "source": [
    "# строим матрицу ошибок для dummy классификатора:\n",
    "from sklearn.metrics import confusion_matrix, precision_score, recall_score\n",
    "confusion_matrix(y_test, y_pred_dummy)"
   ]
  },
  {
   "cell_type": "markdown",
   "id": "de4ccd0b-e1c7-4301-a9be-35e070173079",
   "metadata": {},
   "source": [
    "из аутпута видно, что наша dummy модель вообще не угадывает тех, кто выжил, 162 человека она угадывает верно, что они погибли, а в случае 106 человек модель ошибается"
   ]
  },
  {
   "cell_type": "code",
   "execution_count": 68,
   "id": "c1dfe4d9-7dab-433d-a24f-d5dbaf9b6de7",
   "metadata": {
    "tags": []
   },
   "outputs": [
    {
     "data": {
      "text/plain": [
       "array([[136,  26],\n",
       "       [ 30,  76]])"
      ]
     },
     "execution_count": 68,
     "metadata": {},
     "output_type": "execute_result"
    }
   ],
   "source": [
    "# строим матрицу ошибок для логистической регрессии:\n",
    "confusion_matrix(y_test, y_preds_logreg)"
   ]
  },
  {
   "cell_type": "markdown",
   "id": "a14c534c-508a-418a-a0bd-6f6d8c1f8f1b",
   "metadata": {},
   "source": [
    "из аутпута видно, что лог. модель правильно относит 136 человек к классу 0 (умер), 76 человек правильно относит к классу 1 (выжил), но модель сделала 26 ошибок ложно-позитивных (26 человек отнесла к выжившим, хотя они погибли) и 30 ошибок ложно-негативных (30 человек отнесла к погибшим, хотя они выжили)"
   ]
  },
  {
   "cell_type": "code",
   "execution_count": 69,
   "id": "7810aec6-7b2b-4a4a-b6a2-8c58384bac00",
   "metadata": {
    "tags": []
   },
   "outputs": [
    {
     "name": "stdout",
     "output_type": "stream",
     "text": [
      "Precision for Dummy Classificator: 0.0\n",
      "Precision for Logistic regression: 0.7450980392156863\n"
     ]
    }
   ],
   "source": [
    "print(f'Precision for Dummy Classificator: {precision_score(y_test, y_pred_dummy, zero_division=0)}')\n",
    "print(f'Precision for Logistic regression: {precision_score(y_test, y_preds_logreg, zero_division=0)}')"
   ]
  },
  {
   "cell_type": "markdown",
   "id": "8793b905-dcd4-4bf4-bd21-7cf108459a4c",
   "metadata": {},
   "source": [
    "74% из всех пассажиров, которых модель определила как выживших, действительно выжили, а 26% — ошибочно были предсказаны как выжившие, но на самом деле погибли."
   ]
  },
  {
   "cell_type": "code",
   "execution_count": 70,
   "id": "1ddfafba-a8fb-4841-85f0-7c220113cf45",
   "metadata": {
    "tags": []
   },
   "outputs": [
    {
     "name": "stdout",
     "output_type": "stream",
     "text": [
      "Recall for Dummy Classificator: 0.0\n",
      "Recall for Logistic regression: 0.7169811320754716\n"
     ]
    }
   ],
   "source": [
    "print(f'Recall for Dummy Classificator: {recall_score(y_test, y_pred_dummy)}')\n",
    "print(f'Recall for Logistic regression: {recall_score(y_test, y_preds_logreg)}')"
   ]
  },
  {
   "cell_type": "markdown",
   "id": "12b4e4ea-78e9-4c73-8683-3af0d6f136a5",
   "metadata": {
    "tags": []
   },
   "source": [
    "модель нашла 71% всех выживших пассажиров, но 29% выживших были ошибочно классифицированы как погибшие"
   ]
  },
  {
   "cell_type": "markdown",
   "id": "d36b749d-68af-4827-8f48-1535f27feae0",
   "metadata": {},
   "source": [
    "### F1-score"
   ]
  },
  {
   "cell_type": "code",
   "execution_count": 71,
   "id": "2e20237d-7223-41e4-a487-1853e5b46032",
   "metadata": {
    "tags": []
   },
   "outputs": [
    {
     "name": "stdout",
     "output_type": "stream",
     "text": [
      "F1-score for Dummy Classificator: 0.0\n",
      "F1-score for Logistic regression: 0.7307692307692308\n"
     ]
    }
   ],
   "source": [
    "print(f'F1-score for Dummy Classificator: {f1_score(y_test, y_pred_dummy)}')\n",
    "print(f'F1-score for Logistic regression: {f1_score(y_test, y_preds_logreg)}')"
   ]
  },
  {
   "cell_type": "markdown",
   "id": "eca479c0-6e91-41ca-9eaf-db5a62bf039a",
   "metadata": {},
   "source": [
    "Это значение F1 score ближе к 1, чем к 0, что является положительным знаком. В целом, модель способна правильно классифицировать значительное количество выживших и погибших, но все же имеет ложные срабатывания  требует улучшения."
   ]
  }
 ],
 "metadata": {
  "kernelspec": {
   "display_name": "Python 3 (ipykernel)",
   "language": "python",
   "name": "python3"
  },
  "language_info": {
   "codemirror_mode": {
    "name": "ipython",
    "version": 3
   },
   "file_extension": ".py",
   "mimetype": "text/x-python",
   "name": "python",
   "nbconvert_exporter": "python",
   "pygments_lexer": "ipython3",
   "version": "3.11.5"
  }
 },
 "nbformat": 4,
 "nbformat_minor": 5
}
