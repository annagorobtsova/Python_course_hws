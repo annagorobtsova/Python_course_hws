{
 "cells": [
  {
   "cell_type": "markdown",
   "id": "4f814656-814e-447c-afb2-522452c9b48f",
   "metadata": {},
   "source": [
    "# Импорт библиотек"
   ]
  },
  {
   "cell_type": "code",
   "execution_count": 2,
   "id": "15139558-8a81-45f6-bc09-9362b03a4131",
   "metadata": {
    "tags": []
   },
   "outputs": [],
   "source": [
    "import requests # для отправки HTTP-запросов и получения данных с веб-сайтов.\n",
    "from bs4 import BeautifulSoup # для парсинга HTML-кода и извлечения данных.\n",
    "from tqdm import tqdm # для создания индикатора выполнения цикла (прогресс-бар).\n",
    "import pandas as pd # для работы с данными и их анализа"
   ]
  },
  {
   "cell_type": "markdown",
   "id": "5473e94a-a477-4db0-8ef2-af9742f120e1",
   "metadata": {},
   "source": [
    "# Создание списков для хранения данных"
   ]
  },
  {
   "cell_type": "code",
   "execution_count": 3,
   "id": "354881f5-e98a-4a8a-b086-a482f00ea21a",
   "metadata": {
    "tags": []
   },
   "outputs": [],
   "source": [
    "parsed_urls = [] # список для хранения ссылок\n",
    "titles = [] # список для хранения заголовков статей\n",
    "content = [] # список для хранения текста материалов"
   ]
  },
  {
   "cell_type": "markdown",
   "id": "49da134f-d0fc-44cd-b4a0-e86ccf18dae6",
   "metadata": {},
   "source": [
    "# Задаем формат ссылки для пагинации\n",
    "Определяем базовый URL, который используется для перехода по страницам с материалами на сайте Lifehacker."
   ]
  },
  {
   "cell_type": "code",
   "execution_count": 4,
   "id": "50ec853e-4b5a-48d7-a694-aa4939bada2c",
   "metadata": {
    "tags": []
   },
   "outputs": [],
   "source": [
    "# базовая ссылка, которая используется для пагинации\n",
    "base_url = 'https://lifehacker.ru/topics/technology/?page='"
   ]
  },
  {
   "cell_type": "markdown",
   "id": "4dccd46a-e7db-45db-8ac1-ba94dffa1f72",
   "metadata": {},
   "source": [
    "# Получаем ссылки на статьи"
   ]
  },
  {
   "cell_type": "code",
   "execution_count": 5,
   "id": "ee620067-de28-4d9f-b504-c7cc6cb4df3c",
   "metadata": {
    "tags": []
   },
   "outputs": [],
   "source": [
    "for page_num in range(1, 11): # Запускаем цикл, который проходит по номерам страниц от 1 до 10 включительно\n",
    "    url = f'{base_url}{page_num}' # Формируем URL для каждой страницы: добавляем номер страницы к базовому URL\n",
    "    response = requests.get(url) # Отправляем GET-запрос: получаем HTML-код страницы\n",
    "    soup = BeautifulSoup(response.text, 'lxml') # Парсим HTML: создаем объект soup, который представляет разобранный HTML-код.\n",
    "    articles = soup.find_all('a', class_='lh-small-article-card__link') # Находим все ссылки на статьи: используем метод find_all, чтобы получить все элементы <a> с классом lh-small-article-card__link.\n",
    "    parsed_urls += [article.get('href')for article in articles] # Сохраняем ссылки: добавляем ссылки на статьи в список parsed_urls."
   ]
  },
  {
   "cell_type": "markdown",
   "id": "0ecad054-5302-48ff-ac51-c68d181f6c6a",
   "metadata": {},
   "source": [
    "# Парсинг статей"
   ]
  },
  {
   "cell_type": "code",
   "execution_count": 7,
   "id": "f595fdd8-a83b-4145-bff5-273af94c3d4b",
   "metadata": {
    "tags": []
   },
   "outputs": [],
   "source": [
    "base_url2 = 'https://lifehacker.ru' # Установка базового URL для статей:"
   ]
  },
  {
   "cell_type": "code",
   "execution_count": 8,
   "id": "4179ff45-b5f5-482d-8bdb-0db22e78d87e",
   "metadata": {
    "tags": []
   },
   "outputs": [
    {
     "name": "stderr",
     "output_type": "stream",
     "text": [
      " 72%|█████████████████████████████▍           | 215/300 [02:58<00:36,  2.34it/s]"
     ]
    },
    {
     "name": "stdout",
     "output_type": "stream",
     "text": [
      "Ошибка при обработке https://lifehacker.ruhttps://lifehacker.ru/special/msi-your-laptop/: HTTPSConnectionPool(host='lifehacker.ruhttps', port=443): Max retries exceeded with url: //lifehacker.ru/special/msi-your-laptop/ (Caused by NewConnectionError('<urllib3.connection.HTTPSConnection object at 0x1370d55d0>: Failed to establish a new connection: [Errno 8] nodename nor servname provided, or not known'))\n"
     ]
    },
    {
     "name": "stderr",
     "output_type": "stream",
     "text": [
      "100%|█████████████████████████████████████████| 300/300 [04:13<00:00,  1.19it/s]\n"
     ]
    }
   ],
   "source": [
    "for url in tqdm(parsed_urls): # Цикл по всем URL в списке parsed_urls\n",
    "    try:\n",
    "        article_url = f'{base_url2}{url}' # Формируем полный URL статьи\n",
    "        article_response = requests.get(article_url) # Отправляем GET-запрос на страницу статьи: получаем HTML-код статьи\n",
    "        article_soup = BeautifulSoup(article_response.text, 'lxml') # Парсим HTML статьи: создаем объект article_soup\n",
    "        title = article_soup.find('h1', class_='article-card__title').text.strip() # Извлекаем заголовок: находим заголовок статьи по его классу\n",
    "        text = article_soup.find('div', class_='single-article__post-content').text.strip() # Извлекаем текст статьи: находим основной текст статьи по его классу\n",
    "    except Exception as e:\n",
    "        print(f\"Ошибка при обработке {article_url}: {e}\") # Обработка ошибок с помощью конструкции try-except: если возникает ошибка, то выводим сообщение о ней, но программа продолжает работать\n",
    "        \n",
    "    titles.append(title)\n",
    "    content.append(text)"
   ]
  },
  {
   "cell_type": "code",
   "execution_count": 9,
   "id": "18ec33a6-e666-4e6a-a98f-30d1b57fd644",
   "metadata": {
    "tags": []
   },
   "outputs": [
    {
     "data": {
      "text/html": [
       "<div>\n",
       "<style scoped>\n",
       "    .dataframe tbody tr th:only-of-type {\n",
       "        vertical-align: middle;\n",
       "    }\n",
       "\n",
       "    .dataframe tbody tr th {\n",
       "        vertical-align: top;\n",
       "    }\n",
       "\n",
       "    .dataframe thead th {\n",
       "        text-align: right;\n",
       "    }\n",
       "</style>\n",
       "<table border=\"1\" class=\"dataframe\">\n",
       "  <thead>\n",
       "    <tr style=\"text-align: right;\">\n",
       "      <th></th>\n",
       "      <th>Title</th>\n",
       "      <th>Content</th>\n",
       "      <th>URL</th>\n",
       "    </tr>\n",
       "  </thead>\n",
       "  <tbody>\n",
       "    <tr>\n",
       "      <th>0</th>\n",
       "      <td>Honor назвала 35 устройств, которые получат Ma...</td>\n",
       "      <td>Honor официально представила MagicOS 9.0 с мно...</td>\n",
       "      <td>/podderzhivaemye-magicos-9-0-ustroistva/</td>\n",
       "    </tr>\n",
       "    <tr>\n",
       "      <th>1</th>\n",
       "      <td>Приложение для рисования Adobe Fresco стало по...</td>\n",
       "      <td>Adobe попыталась привлечь иллюстраторов к свое...</td>\n",
       "      <td>/adobe-fresco-stalo-besplatnym/</td>\n",
       "    </tr>\n",
       "    <tr>\n",
       "      <th>2</th>\n",
       "      <td>Huawei представила смартфоны nova 13 и nova 13...</td>\n",
       "      <td>Huawei представила сразу два новых смартфона —...</td>\n",
       "      <td>/anons-huawei-nova-13-i-nova-13-pro/</td>\n",
       "    </tr>\n",
       "    <tr>\n",
       "      <th>3</th>\n",
       "      <td>В WhatsApp появится собственная книга контакто...</td>\n",
       "      <td>В WhatsApp скоро появится собственный менеджер...</td>\n",
       "      <td>/kniga-kontaktov-v-whatsapp/</td>\n",
       "    </tr>\n",
       "    <tr>\n",
       "      <th>4</th>\n",
       "      <td>Представлена Boox Palma 2 — читалка на Android...</td>\n",
       "      <td>Boox анонсировала Palma 2 — обновление своей ч...</td>\n",
       "      <td>/anons-boox-palma-2/</td>\n",
       "    </tr>\n",
       "  </tbody>\n",
       "</table>\n",
       "</div>"
      ],
      "text/plain": [
       "                                               Title  \\\n",
       "0  Honor назвала 35 устройств, которые получат Ma...   \n",
       "1  Приложение для рисования Adobe Fresco стало по...   \n",
       "2  Huawei представила смартфоны nova 13 и nova 13...   \n",
       "3  В WhatsApp появится собственная книга контакто...   \n",
       "4  Представлена Boox Palma 2 — читалка на Android...   \n",
       "\n",
       "                                             Content  \\\n",
       "0  Honor официально представила MagicOS 9.0 с мно...   \n",
       "1  Adobe попыталась привлечь иллюстраторов к свое...   \n",
       "2  Huawei представила сразу два новых смартфона —...   \n",
       "3  В WhatsApp скоро появится собственный менеджер...   \n",
       "4  Boox анонсировала Palma 2 — обновление своей ч...   \n",
       "\n",
       "                                        URL  \n",
       "0  /podderzhivaemye-magicos-9-0-ustroistva/  \n",
       "1           /adobe-fresco-stalo-besplatnym/  \n",
       "2      /anons-huawei-nova-13-i-nova-13-pro/  \n",
       "3              /kniga-kontaktov-v-whatsapp/  \n",
       "4                      /anons-boox-palma-2/  "
      ]
     },
     "execution_count": 9,
     "metadata": {},
     "output_type": "execute_result"
    }
   ],
   "source": [
    "# Создаем DataFrame с собранными данными\n",
    "df = pd.DataFrame({\n",
    "    'Title': titles,\n",
    "    'Content': content,\n",
    "    'URL': parsed_urls\n",
    "})\n",
    "\n",
    "df.head()"
   ]
  },
  {
   "cell_type": "code",
   "execution_count": null,
   "id": "f058eb8a-5a83-4ff1-89ea-18380756221c",
   "metadata": {},
   "outputs": [],
   "source": []
  }
 ],
 "metadata": {
  "kernelspec": {
   "display_name": "Python 3 (ipykernel)",
   "language": "python",
   "name": "python3"
  },
  "language_info": {
   "codemirror_mode": {
    "name": "ipython",
    "version": 3
   },
   "file_extension": ".py",
   "mimetype": "text/x-python",
   "name": "python",
   "nbconvert_exporter": "python",
   "pygments_lexer": "ipython3",
   "version": "3.11.5"
  },
  "toc-showmarkdowntxt": true
 },
 "nbformat": 4,
 "nbformat_minor": 5
}
